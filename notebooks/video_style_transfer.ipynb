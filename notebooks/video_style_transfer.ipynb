{
  "nbformat": 4,
  "nbformat_minor": 0,
  "metadata": {
    "accelerator": "GPU",
    "colab": {
      "name": "video_style_transfer.ipynb",
      "provenance": [],
      "collapsed_sections": [],
      "mount_file_id": "10ETff9IdetDgEZqlGlnVlKK5cnD_8UtD",
      "authorship_tag": "ABX9TyNp72rofxbNodcSXOW6sDke",
      "include_colab_link": true
    },
    "kernelspec": {
      "display_name": "Python 3",
      "name": "python3"
    },
    "widgets": {
      "application/vnd.jupyter.widget-state+json": {
        "1d9a507d56e74b61bebc41c8c74a31e3": {
          "model_module": "@jupyter-widgets/controls",
          "model_name": "HBoxModel",
          "state": {
            "_view_name": "HBoxView",
            "_dom_classes": [],
            "_model_name": "HBoxModel",
            "_view_module": "@jupyter-widgets/controls",
            "_model_module_version": "1.5.0",
            "_view_count": null,
            "_view_module_version": "1.5.0",
            "box_style": "",
            "layout": "IPY_MODEL_9b86573cb27e43e1a746e61f47a6d190",
            "_model_module": "@jupyter-widgets/controls",
            "children": [
              "IPY_MODEL_57d5b7cd874d4e3796c5a7975542b2a5",
              "IPY_MODEL_2376b7a07a7749489d5a5424c676940e"
            ]
          }
        },
        "9b86573cb27e43e1a746e61f47a6d190": {
          "model_module": "@jupyter-widgets/base",
          "model_name": "LayoutModel",
          "state": {
            "_view_name": "LayoutView",
            "grid_template_rows": null,
            "right": null,
            "justify_content": null,
            "_view_module": "@jupyter-widgets/base",
            "overflow": null,
            "_model_module_version": "1.2.0",
            "_view_count": null,
            "flex_flow": null,
            "width": null,
            "min_width": null,
            "border": null,
            "align_items": null,
            "bottom": null,
            "_model_module": "@jupyter-widgets/base",
            "top": null,
            "grid_column": null,
            "overflow_y": null,
            "overflow_x": null,
            "grid_auto_flow": null,
            "grid_area": null,
            "grid_template_columns": null,
            "flex": null,
            "_model_name": "LayoutModel",
            "justify_items": null,
            "grid_row": null,
            "max_height": null,
            "align_content": null,
            "visibility": null,
            "align_self": null,
            "height": null,
            "min_height": null,
            "padding": null,
            "grid_auto_rows": null,
            "grid_gap": null,
            "max_width": null,
            "order": null,
            "_view_module_version": "1.2.0",
            "grid_template_areas": null,
            "object_position": null,
            "object_fit": null,
            "grid_auto_columns": null,
            "margin": null,
            "display": null,
            "left": null
          }
        },
        "57d5b7cd874d4e3796c5a7975542b2a5": {
          "model_module": "@jupyter-widgets/controls",
          "model_name": "FloatProgressModel",
          "state": {
            "_view_name": "ProgressView",
            "style": "IPY_MODEL_c1ca7c0b0c074ea3b52eb4f3633a0f39",
            "_dom_classes": [],
            "description": "100%",
            "_model_name": "FloatProgressModel",
            "bar_style": "success",
            "max": 452,
            "_view_module": "@jupyter-widgets/controls",
            "_model_module_version": "1.5.0",
            "value": 452,
            "_view_count": null,
            "_view_module_version": "1.5.0",
            "orientation": "horizontal",
            "min": 0,
            "description_tooltip": null,
            "_model_module": "@jupyter-widgets/controls",
            "layout": "IPY_MODEL_a26ff297f66348c78904c4b15e480100"
          }
        },
        "2376b7a07a7749489d5a5424c676940e": {
          "model_module": "@jupyter-widgets/controls",
          "model_name": "HTMLModel",
          "state": {
            "_view_name": "HTMLView",
            "style": "IPY_MODEL_15a4435623cb4c0ea4d5496cf2101764",
            "_dom_classes": [],
            "description": "",
            "_model_name": "HTMLModel",
            "placeholder": "​",
            "_view_module": "@jupyter-widgets/controls",
            "_model_module_version": "1.5.0",
            "value": " 452/452 [00:02&lt;00:00, 214.44it/s]",
            "_view_count": null,
            "_view_module_version": "1.5.0",
            "description_tooltip": null,
            "_model_module": "@jupyter-widgets/controls",
            "layout": "IPY_MODEL_6bcab87d5e0649d486512363c67f37b6"
          }
        },
        "c1ca7c0b0c074ea3b52eb4f3633a0f39": {
          "model_module": "@jupyter-widgets/controls",
          "model_name": "ProgressStyleModel",
          "state": {
            "_view_name": "StyleView",
            "_model_name": "ProgressStyleModel",
            "description_width": "initial",
            "_view_module": "@jupyter-widgets/base",
            "_model_module_version": "1.5.0",
            "_view_count": null,
            "_view_module_version": "1.2.0",
            "bar_color": null,
            "_model_module": "@jupyter-widgets/controls"
          }
        },
        "a26ff297f66348c78904c4b15e480100": {
          "model_module": "@jupyter-widgets/base",
          "model_name": "LayoutModel",
          "state": {
            "_view_name": "LayoutView",
            "grid_template_rows": null,
            "right": null,
            "justify_content": null,
            "_view_module": "@jupyter-widgets/base",
            "overflow": null,
            "_model_module_version": "1.2.0",
            "_view_count": null,
            "flex_flow": null,
            "width": null,
            "min_width": null,
            "border": null,
            "align_items": null,
            "bottom": null,
            "_model_module": "@jupyter-widgets/base",
            "top": null,
            "grid_column": null,
            "overflow_y": null,
            "overflow_x": null,
            "grid_auto_flow": null,
            "grid_area": null,
            "grid_template_columns": null,
            "flex": null,
            "_model_name": "LayoutModel",
            "justify_items": null,
            "grid_row": null,
            "max_height": null,
            "align_content": null,
            "visibility": null,
            "align_self": null,
            "height": null,
            "min_height": null,
            "padding": null,
            "grid_auto_rows": null,
            "grid_gap": null,
            "max_width": null,
            "order": null,
            "_view_module_version": "1.2.0",
            "grid_template_areas": null,
            "object_position": null,
            "object_fit": null,
            "grid_auto_columns": null,
            "margin": null,
            "display": null,
            "left": null
          }
        },
        "15a4435623cb4c0ea4d5496cf2101764": {
          "model_module": "@jupyter-widgets/controls",
          "model_name": "DescriptionStyleModel",
          "state": {
            "_view_name": "StyleView",
            "_model_name": "DescriptionStyleModel",
            "description_width": "",
            "_view_module": "@jupyter-widgets/base",
            "_model_module_version": "1.5.0",
            "_view_count": null,
            "_view_module_version": "1.2.0",
            "_model_module": "@jupyter-widgets/controls"
          }
        },
        "6bcab87d5e0649d486512363c67f37b6": {
          "model_module": "@jupyter-widgets/base",
          "model_name": "LayoutModel",
          "state": {
            "_view_name": "LayoutView",
            "grid_template_rows": null,
            "right": null,
            "justify_content": null,
            "_view_module": "@jupyter-widgets/base",
            "overflow": null,
            "_model_module_version": "1.2.0",
            "_view_count": null,
            "flex_flow": null,
            "width": null,
            "min_width": null,
            "border": null,
            "align_items": null,
            "bottom": null,
            "_model_module": "@jupyter-widgets/base",
            "top": null,
            "grid_column": null,
            "overflow_y": null,
            "overflow_x": null,
            "grid_auto_flow": null,
            "grid_area": null,
            "grid_template_columns": null,
            "flex": null,
            "_model_name": "LayoutModel",
            "justify_items": null,
            "grid_row": null,
            "max_height": null,
            "align_content": null,
            "visibility": null,
            "align_self": null,
            "height": null,
            "min_height": null,
            "padding": null,
            "grid_auto_rows": null,
            "grid_gap": null,
            "max_width": null,
            "order": null,
            "_view_module_version": "1.2.0",
            "grid_template_areas": null,
            "object_position": null,
            "object_fit": null,
            "grid_auto_columns": null,
            "margin": null,
            "display": null,
            "left": null
          }
        }
      }
    }
  },
  "cells": [
    {
      "cell_type": "markdown",
      "metadata": {
        "id": "view-in-github",
        "colab_type": "text"
      },
      "source": [
        "<a href=\"https://colab.research.google.com/github/GiovaniValdrighi/style_transfer/blob/main/notebooks/video_style_transfer.ipynb\" target=\"_parent\"><img src=\"https://colab.research.google.com/assets/colab-badge.svg\" alt=\"Open In Colab\"/></a>"
      ]
    },
    {
      "cell_type": "markdown",
      "metadata": {
        "id": "eVP-0NtzYfhh"
      },
      "source": [
        "# Video Style Transfer"
      ]
    },
    {
      "cell_type": "code",
      "metadata": {
        "id": "tLOqJrLyWGOy"
      },
      "source": [
        "from neural_style_transfer import style_transfer\n",
        "from tqdm.notebook import tqdm\n",
        "from PIL import Image\n",
        "import os\n",
        "import cv2\n",
        "%load_ext autoreload\n",
        "%autoreload 2"
      ],
      "execution_count": 5,
      "outputs": []
    },
    {
      "cell_type": "markdown",
      "metadata": {
        "id": "1pIF1gc-DiWM"
      },
      "source": [
        "## Processamento do vídeo"
      ]
    },
    {
      "cell_type": "markdown",
      "metadata": {
        "id": "ewn1nVaFrRzU"
      },
      "source": [
        "Carregamos o vídeo como um tensor de imagens utilizando dos métodos do openCV. Iremos iterar por esse tensor e realizar o treinamento para cada imagem individualmente."
      ]
    },
    {
      "cell_type": "code",
      "metadata": {
        "id": "9-hTwZiqP5pK"
      },
      "source": [
        "output_path = '/content/drive/MyDrive/video_style_transfer/output_cat/'\n",
        "video_path = '/content/drive/MyDrive/video_style_transfer/cat_video.mp4'\n",
        "style_path = '/content/drive/MyDrive/video_style_transfer/stary_night.jpg'"
      ],
      "execution_count": 6,
      "outputs": []
    },
    {
      "cell_type": "code",
      "metadata": {
        "id": "J96yV42EXSA4"
      },
      "source": [
        "vidcap = cv2.VideoCapture(video_path)\n",
        "success,image = vidcap.read()\n",
        "count = 0\n",
        "while success:\n",
        "    image = Image.fromarray(image)\n",
        "    model = style_transfer(image, style = style_path, \n",
        "                           output_path = output_path + 'image_'+ str(count)+'.jpg',\n",
        "                           iterations = 10, cuda = True, verbose = False)\n",
        "    _ = model.train()\n",
        "    success,image = vidcap.read()\n",
        "    count += 1"
      ],
      "execution_count": null,
      "outputs": []
    },
    {
      "cell_type": "markdown",
      "metadata": {
        "id": "Tj_EBra6Dkvv"
      },
      "source": [
        "## Criação do vídeo"
      ]
    },
    {
      "cell_type": "markdown",
      "metadata": {
        "id": "n1oMoZamN3tD"
      },
      "source": [
        "Agora, com a pasta de imagens, vamos utilizar da bibilioteca openCV2 para criar um arquivo mp4."
      ]
    },
    {
      "cell_type": "code",
      "metadata": {
        "id": "VNFn25ibDnpr"
      },
      "source": [
        "def create_video_from_images(folder, out):\n",
        "    files = os.listdir(folder)\n",
        "    files.sort(key = lambda x : int(x[x.find('_')+1:x.find('.')]))\n",
        "    size = (224, 224)\n",
        "    out = cv2.VideoWriter(out+'.mp4',cv2.VideoWriter_fourcc(*'MP4V'), 24, size)\n",
        "    for f in tqdm(files):\n",
        "        im = cv2.imread(folder+'/'+f)\n",
        "        im = cv2.rotate(im, cv2.cv2.ROTATE_90_CLOCKWISE) \n",
        "        out.write(im)"
      ],
      "execution_count": 11,
      "outputs": []
    },
    {
      "cell_type": "code",
      "metadata": {
        "id": "oPMgwM4sEOkB",
        "colab": {
          "base_uri": "https://localhost:8080/",
          "height": 66,
          "referenced_widgets": [
            "1d9a507d56e74b61bebc41c8c74a31e3",
            "9b86573cb27e43e1a746e61f47a6d190",
            "57d5b7cd874d4e3796c5a7975542b2a5",
            "2376b7a07a7749489d5a5424c676940e",
            "c1ca7c0b0c074ea3b52eb4f3633a0f39",
            "a26ff297f66348c78904c4b15e480100",
            "15a4435623cb4c0ea4d5496cf2101764",
            "6bcab87d5e0649d486512363c67f37b6"
          ]
        },
        "outputId": "005b621b-bc25-479f-cded-ef875a7ac6b0"
      },
      "source": [
        "create_video_from_images(output_path, '/content/drive/MyDrive/video_style_transfer/cat_style')"
      ],
      "execution_count": 12,
      "outputs": [
        {
          "output_type": "display_data",
          "data": {
            "application/vnd.jupyter.widget-view+json": {
              "model_id": "1d9a507d56e74b61bebc41c8c74a31e3",
              "version_minor": 0,
              "version_major": 2
            },
            "text/plain": [
              "HBox(children=(FloatProgress(value=0.0, max=452.0), HTML(value='')))"
            ]
          },
          "metadata": {
            "tags": []
          }
        },
        {
          "output_type": "stream",
          "text": [
            "\n"
          ],
          "name": "stdout"
        }
      ]
    },
    {
      "cell_type": "code",
      "metadata": {
        "colab": {
          "base_uri": "https://localhost:8080/",
          "height": 336
        },
        "id": "ngfv22Yb_vCv",
        "outputId": "3c8f82a4-1f62-46e7-b125-86a596221d7b"
      },
      "source": [
        "from IPython.display import HTML\n",
        "HTML('<iframe width=\"560\" height=\"315\" src=\"https://www.youtube.com/embed/92MzqD_dspw\" frameborder=\"0\" allow=\"accelerometer; autoplay; clipboard-write; encrypted-media; gyroscope; picture-in-picture\" allowfullscreen></iframe>')"
      ],
      "execution_count": 15,
      "outputs": [
        {
          "output_type": "execute_result",
          "data": {
            "text/html": [
              "<iframe width=\"560\" height=\"315\" src=\"https://www.youtube.com/embed/92MzqD_dspw\" frameborder=\"0\" allow=\"accelerometer; autoplay; clipboard-write; encrypted-media; gyroscope; picture-in-picture\" allowfullscreen></iframe>"
            ],
            "text/plain": [
              "<IPython.core.display.HTML object>"
            ]
          },
          "metadata": {
            "tags": []
          },
          "execution_count": 15
        }
      ]
    }
  ]
}
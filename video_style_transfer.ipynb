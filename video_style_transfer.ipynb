{
  "nbformat": 4,
  "nbformat_minor": 0,
  "metadata": {
    "accelerator": "GPU",
    "colab": {
      "name": "video_style_transfer.ipynb",
      "provenance": [],
      "authorship_tag": "ABX9TyNO16E+FiJVXF4FfDlawIuj",
      "include_colab_link": true
    },
    "kernelspec": {
      "display_name": "Python 3",
      "name": "python3"
    },
    "widgets": {
      "application/vnd.jupyter.widget-state+json": {
        "43be5e15511f45bc8c5c87cc83b7fec5": {
          "model_module": "@jupyter-widgets/controls",
          "model_name": "HBoxModel",
          "state": {
            "_view_name": "HBoxView",
            "_dom_classes": [],
            "_model_name": "HBoxModel",
            "_view_module": "@jupyter-widgets/controls",
            "_model_module_version": "1.5.0",
            "_view_count": null,
            "_view_module_version": "1.5.0",
            "box_style": "",
            "layout": "IPY_MODEL_f2b10a391f0445d2be82c50f55b34f7f",
            "_model_module": "@jupyter-widgets/controls",
            "children": [
              "IPY_MODEL_04f10cf983bd4fe598307b93bbbdf23a",
              "IPY_MODEL_e30ed37a3a904910910db568e80e1631"
            ]
          }
        },
        "f2b10a391f0445d2be82c50f55b34f7f": {
          "model_module": "@jupyter-widgets/base",
          "model_name": "LayoutModel",
          "state": {
            "_view_name": "LayoutView",
            "grid_template_rows": null,
            "right": null,
            "justify_content": null,
            "_view_module": "@jupyter-widgets/base",
            "overflow": null,
            "_model_module_version": "1.2.0",
            "_view_count": null,
            "flex_flow": null,
            "width": null,
            "min_width": null,
            "border": null,
            "align_items": null,
            "bottom": null,
            "_model_module": "@jupyter-widgets/base",
            "top": null,
            "grid_column": null,
            "overflow_y": null,
            "overflow_x": null,
            "grid_auto_flow": null,
            "grid_area": null,
            "grid_template_columns": null,
            "flex": null,
            "_model_name": "LayoutModel",
            "justify_items": null,
            "grid_row": null,
            "max_height": null,
            "align_content": null,
            "visibility": null,
            "align_self": null,
            "height": null,
            "min_height": null,
            "padding": null,
            "grid_auto_rows": null,
            "grid_gap": null,
            "max_width": null,
            "order": null,
            "_view_module_version": "1.2.0",
            "grid_template_areas": null,
            "object_position": null,
            "object_fit": null,
            "grid_auto_columns": null,
            "margin": null,
            "display": null,
            "left": null
          }
        },
        "04f10cf983bd4fe598307b93bbbdf23a": {
          "model_module": "@jupyter-widgets/controls",
          "model_name": "FloatProgressModel",
          "state": {
            "_view_name": "ProgressView",
            "style": "IPY_MODEL_2a44d6625d6c40f6bf9e773c686033ca",
            "_dom_classes": [],
            "description": "100%",
            "_model_name": "FloatProgressModel",
            "bar_style": "success",
            "max": 121,
            "_view_module": "@jupyter-widgets/controls",
            "_model_module_version": "1.5.0",
            "value": 121,
            "_view_count": null,
            "_view_module_version": "1.5.0",
            "orientation": "horizontal",
            "min": 0,
            "description_tooltip": null,
            "_model_module": "@jupyter-widgets/controls",
            "layout": "IPY_MODEL_5f33b10ec0474cf99016329ea3d5e51c"
          }
        },
        "e30ed37a3a904910910db568e80e1631": {
          "model_module": "@jupyter-widgets/controls",
          "model_name": "HTMLModel",
          "state": {
            "_view_name": "HTMLView",
            "style": "IPY_MODEL_156cb34a84d74ce7832507d837f63c2f",
            "_dom_classes": [],
            "description": "",
            "_model_name": "HTMLModel",
            "placeholder": "​",
            "_view_module": "@jupyter-widgets/controls",
            "_model_module_version": "1.5.0",
            "value": " 121/121 [47:26&lt;00:00, 23.52s/it]",
            "_view_count": null,
            "_view_module_version": "1.5.0",
            "description_tooltip": null,
            "_model_module": "@jupyter-widgets/controls",
            "layout": "IPY_MODEL_c27370dce2ab47e082a4207fe368b456"
          }
        },
        "2a44d6625d6c40f6bf9e773c686033ca": {
          "model_module": "@jupyter-widgets/controls",
          "model_name": "ProgressStyleModel",
          "state": {
            "_view_name": "StyleView",
            "_model_name": "ProgressStyleModel",
            "description_width": "initial",
            "_view_module": "@jupyter-widgets/base",
            "_model_module_version": "1.5.0",
            "_view_count": null,
            "_view_module_version": "1.2.0",
            "bar_color": null,
            "_model_module": "@jupyter-widgets/controls"
          }
        },
        "5f33b10ec0474cf99016329ea3d5e51c": {
          "model_module": "@jupyter-widgets/base",
          "model_name": "LayoutModel",
          "state": {
            "_view_name": "LayoutView",
            "grid_template_rows": null,
            "right": null,
            "justify_content": null,
            "_view_module": "@jupyter-widgets/base",
            "overflow": null,
            "_model_module_version": "1.2.0",
            "_view_count": null,
            "flex_flow": null,
            "width": null,
            "min_width": null,
            "border": null,
            "align_items": null,
            "bottom": null,
            "_model_module": "@jupyter-widgets/base",
            "top": null,
            "grid_column": null,
            "overflow_y": null,
            "overflow_x": null,
            "grid_auto_flow": null,
            "grid_area": null,
            "grid_template_columns": null,
            "flex": null,
            "_model_name": "LayoutModel",
            "justify_items": null,
            "grid_row": null,
            "max_height": null,
            "align_content": null,
            "visibility": null,
            "align_self": null,
            "height": null,
            "min_height": null,
            "padding": null,
            "grid_auto_rows": null,
            "grid_gap": null,
            "max_width": null,
            "order": null,
            "_view_module_version": "1.2.0",
            "grid_template_areas": null,
            "object_position": null,
            "object_fit": null,
            "grid_auto_columns": null,
            "margin": null,
            "display": null,
            "left": null
          }
        },
        "156cb34a84d74ce7832507d837f63c2f": {
          "model_module": "@jupyter-widgets/controls",
          "model_name": "DescriptionStyleModel",
          "state": {
            "_view_name": "StyleView",
            "_model_name": "DescriptionStyleModel",
            "description_width": "",
            "_view_module": "@jupyter-widgets/base",
            "_model_module_version": "1.5.0",
            "_view_count": null,
            "_view_module_version": "1.2.0",
            "_model_module": "@jupyter-widgets/controls"
          }
        },
        "c27370dce2ab47e082a4207fe368b456": {
          "model_module": "@jupyter-widgets/base",
          "model_name": "LayoutModel",
          "state": {
            "_view_name": "LayoutView",
            "grid_template_rows": null,
            "right": null,
            "justify_content": null,
            "_view_module": "@jupyter-widgets/base",
            "overflow": null,
            "_model_module_version": "1.2.0",
            "_view_count": null,
            "flex_flow": null,
            "width": null,
            "min_width": null,
            "border": null,
            "align_items": null,
            "bottom": null,
            "_model_module": "@jupyter-widgets/base",
            "top": null,
            "grid_column": null,
            "overflow_y": null,
            "overflow_x": null,
            "grid_auto_flow": null,
            "grid_area": null,
            "grid_template_columns": null,
            "flex": null,
            "_model_name": "LayoutModel",
            "justify_items": null,
            "grid_row": null,
            "max_height": null,
            "align_content": null,
            "visibility": null,
            "align_self": null,
            "height": null,
            "min_height": null,
            "padding": null,
            "grid_auto_rows": null,
            "grid_gap": null,
            "max_width": null,
            "order": null,
            "_view_module_version": "1.2.0",
            "grid_template_areas": null,
            "object_position": null,
            "object_fit": null,
            "grid_auto_columns": null,
            "margin": null,
            "display": null,
            "left": null
          }
        }
      }
    }
  },
  "cells": [
    {
      "cell_type": "markdown",
      "metadata": {
        "id": "view-in-github",
        "colab_type": "text"
      },
      "source": [
        "<a href=\"https://colab.research.google.com/github/GiovaniValdrighi/style_transfer/blob/main/video_style_transfer.ipynb\" target=\"_parent\"><img src=\"https://colab.research.google.com/assets/colab-badge.svg\" alt=\"Open In Colab\"/></a>"
      ]
    },
    {
      "cell_type": "markdown",
      "metadata": {
        "id": "eVP-0NtzYfhh"
      },
      "source": [
        "# Video Style Transfer"
      ]
    },
    {
      "cell_type": "code",
      "metadata": {
        "colab": {
          "base_uri": "https://localhost:8080/"
        },
        "id": "KoYJpVcGYDf2",
        "outputId": "89ed618d-9208-45c0-c7ee-e104fdcfa4e0"
      },
      "source": [
        "!pip install av"
      ],
      "execution_count": null,
      "outputs": [
        {
          "output_type": "stream",
          "text": [
            "Collecting av\n",
            "\u001b[?25l  Downloading https://files.pythonhosted.org/packages/9e/62/9a992be76f8e13ce0e3a24a838191b546805545116f9fc869bd11bd21b5f/av-8.0.2-cp36-cp36m-manylinux2010_x86_64.whl (36.9MB)\n",
            "\u001b[K     |████████████████████████████████| 36.9MB 87kB/s \n",
            "\u001b[?25hInstalling collected packages: av\n",
            "Successfully installed av-8.0.2\n"
          ],
          "name": "stdout"
        }
      ]
    },
    {
      "cell_type": "code",
      "metadata": {
        "colab": {
          "base_uri": "https://localhost:8080/"
        },
        "id": "tLOqJrLyWGOy",
        "outputId": "0d9dc2fb-d473-47c6-eb2d-76f50b65ab81"
      },
      "source": [
        "import torch\n",
        "import torchvision\n",
        "from neural_style_transfer import style_transfer\n",
        "from torchvision import transforms\n",
        "from tqdm.notebook import tqdm\n",
        "import os\n",
        "import cv2\n",
        "%load_ext autoreload\n",
        "%autoreload 2"
      ],
      "execution_count": 35,
      "outputs": [
        {
          "output_type": "stream",
          "text": [
            "The autoreload extension is already loaded. To reload it, use:\n",
            "  %reload_ext autoreload\n"
          ],
          "name": "stdout"
        }
      ]
    },
    {
      "cell_type": "markdown",
      "metadata": {
        "id": "1pIF1gc-DiWM"
      },
      "source": [
        "## Processamento do vídeo"
      ]
    },
    {
      "cell_type": "markdown",
      "metadata": {
        "id": "ewn1nVaFrRzU"
      },
      "source": [
        "Carregamos o vídeo como um tensor de imagens utilizando dos métodos do Torchvision. Iremos iterar por esse tensor e realizar o treinamento para cada imagem individualmente."
      ]
    },
    {
      "cell_type": "code",
      "metadata": {
        "id": "J96yV42EXSA4"
      },
      "source": [
        "vframes, _, _ = torchvision.io.read_video('babyyoda.mp4', start_pts= 88, end_pts = 93, pts_unit = 'sec')\n",
        "frames = vframes.shape[0]"
      ],
      "execution_count": null,
      "outputs": []
    },
    {
      "cell_type": "code",
      "metadata": {
        "id": "sm6nmGw5iSoG",
        "colab": {
          "base_uri": "https://localhost:8080/",
          "height": 67,
          "referenced_widgets": [
            "43be5e15511f45bc8c5c87cc83b7fec5",
            "f2b10a391f0445d2be82c50f55b34f7f",
            "04f10cf983bd4fe598307b93bbbdf23a",
            "e30ed37a3a904910910db568e80e1631",
            "2a44d6625d6c40f6bf9e773c686033ca",
            "5f33b10ec0474cf99016329ea3d5e51c",
            "156cb34a84d74ce7832507d837f63c2f",
            "c27370dce2ab47e082a4207fe368b456"
          ]
        },
        "outputId": "3a672c0f-f620-44b8-fda4-0b6a8a7948aa"
      },
      "source": [
        "toPIL = transforms.ToPILImage()\n",
        "for i in tqdm(range(frames)):\n",
        "    cur_image = toPIL(vframes[i].permute(2, 0, 1))\n",
        "    model = style_transfer(cur_image, style = 'stary_night.jpg', \n",
        "                           output_path = '/content/vid/output_'+ str(i)+'.jpg',\n",
        "                           iterations = 25, cuda = True, verbose = False)\n",
        "    _ = model.train()"
      ],
      "execution_count": 33,
      "outputs": [
        {
          "output_type": "display_data",
          "data": {
            "application/vnd.jupyter.widget-view+json": {
              "model_id": "43be5e15511f45bc8c5c87cc83b7fec5",
              "version_minor": 0,
              "version_major": 2
            },
            "text/plain": [
              "HBox(children=(FloatProgress(value=0.0, max=121.0), HTML(value='')))"
            ]
          },
          "metadata": {
            "tags": []
          }
        },
        {
          "output_type": "stream",
          "text": [
            "\n"
          ],
          "name": "stdout"
        }
      ]
    },
    {
      "cell_type": "markdown",
      "metadata": {
        "id": "Tj_EBra6Dkvv"
      },
      "source": [
        "## Criação do vídeo"
      ]
    },
    {
      "cell_type": "code",
      "metadata": {
        "id": "VNFn25ibDnpr"
      },
      "source": [
        "def create_video_from_images(folder, out):\n",
        "    files = os.listdir(folder)\n",
        "    files.sort(key = lambda x : int(x[x.find('_')+1:x.find('.')]))\n",
        "    images = []\n",
        "    for f in files:\n",
        "        im = cv2.imread(folder+'/'+f)\n",
        "        images.append(im)\n",
        "    size = (im.shape[1], im.shape[0])\n",
        "    out = cv2.VideoWriter(out+'.mp4',cv2.VideoWriter_fourcc(*'MP4V'), 24, size)\n",
        " \n",
        "    for i in range(len(images)):\n",
        "        out.write(images[i])\n",
        "    out.release()"
      ],
      "execution_count": 70,
      "outputs": []
    },
    {
      "cell_type": "code",
      "metadata": {
        "id": "oPMgwM4sEOkB"
      },
      "source": [
        "create_video_from_images('vid', 'babyyoda_style')"
      ],
      "execution_count": 72,
      "outputs": []
    }
  ]
}